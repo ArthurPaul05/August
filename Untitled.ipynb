{
 "cells": [
  {
   "cell_type": "code",
   "execution_count": null,
   "id": "b3f5285f",
   "metadata": {},
   "outputs": [],
   "source": [
    "\n",
    "    \n",
    "    \n"
   ]
  },
  {
   "cell_type": "code",
   "execution_count": 4,
   "id": "cfead3d1",
   "metadata": {},
   "outputs": [
    {
     "name": "stdout",
     "output_type": "stream",
     "text": [
      "dice is rolling\n",
      "The values are: \n",
      "3\n",
      "roll the dice againy\n",
      "dice is rolling\n",
      "The values are: \n",
      "8\n",
      "roll the dice againy\n",
      "dice is rolling\n",
      "The values are: \n",
      "4\n",
      "roll the dice againy\n",
      "dice is rolling\n",
      "The values are: \n",
      "6\n",
      "roll the dice againn\n"
     ]
    }
   ],
   "source": [
    "#dice roller\n",
    "\n",
    "import random\n",
    "min_val =1\n",
    "max_val =10\n",
    "roll_again =\"yes\"\n",
    "while roll_again==\"yes\" or roll_again==\"y\":\n",
    "    print(\"dice is rolling\")\n",
    "    print(\"The values are: \")\n",
    "    print(random.randint(min_val,max_val))\n",
    "    roll_again=input(\"roll the dice again\")"
   ]
  },
  {
   "cell_type": "code",
   "execution_count": 5,
   "id": "731d2cc7",
   "metadata": {},
   "outputs": [
    {
     "name": "stdout",
     "output_type": "stream",
     "text": [
      "anna installed sucessfully pls complete everything goodnight sweet dreams\n"
     ]
    }
   ],
   "source": [
    "print(\"anna installed sucessfully pls complete everything goodnight sweet dreams\")"
   ]
  },
  {
   "cell_type": "code",
   "execution_count": 6,
   "id": "9967d1bd",
   "metadata": {},
   "outputs": [
    {
     "name": "stdout",
     "output_type": "stream",
     "text": [
      "okay\n"
     ]
    }
   ],
   "source": [
    "print(\"okay\")"
   ]
  },
  {
   "cell_type": "code",
   "execution_count": 5,
   "id": "33efcc5d",
   "metadata": {},
   "outputs": [
    {
     "name": "stdout",
     "output_type": "stream",
     "text": [
      "30\n"
     ]
    }
   ],
   "source": [
    "Arthur = \"Art\"\n",
    "Art = 30\n",
    "print(Art)"
   ]
  },
  {
   "cell_type": "code",
   "execution_count": 9,
   "id": "8d7ae55b",
   "metadata": {},
   "outputs": [
    {
     "name": "stdout",
     "output_type": "stream",
     "text": [
      "6 ravi\n"
     ]
    }
   ],
   "source": [
    "x =6\n",
    "y =\"ravi\"\n",
    "print(x,y)"
   ]
  },
  {
   "cell_type": "code",
   "execution_count": null,
   "id": "69965d28",
   "metadata": {},
   "outputs": [],
   "source": []
  }
 ],
 "metadata": {
  "kernelspec": {
   "display_name": "Python 3 (ipykernel)",
   "language": "python",
   "name": "python3"
  },
  "language_info": {
   "codemirror_mode": {
    "name": "ipython",
    "version": 3
   },
   "file_extension": ".py",
   "mimetype": "text/x-python",
   "name": "python",
   "nbconvert_exporter": "python",
   "pygments_lexer": "ipython3",
   "version": "3.9.12"
  }
 },
 "nbformat": 4,
 "nbformat_minor": 5
}
