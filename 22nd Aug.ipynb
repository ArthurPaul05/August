{
 "cells": [
  {
   "cell_type": "code",
   "execution_count": 33,
   "id": "e36b921b",
   "metadata": {},
   "outputs": [
    {
     "name": "stdout",
     "output_type": "stream",
     "text": [
      "formation_T\n",
      "ion_Technology\n",
      "Information_T\n",
      "hnology\n",
      "nformation_Technolog\n",
      "mation_Technology\n",
      "programming_language\n",
      "thon_programming_lang\n",
      "ython\n",
      "amming_\n",
      "ogramm\n",
      "ng_langua\n",
      "ogramming_language\n"
     ]
    }
   ],
   "source": [
    "a = \"Information_Technology\"\n",
    "b = \"Python_programming_language\"\n",
    "print (a[-20:-9])\n",
    "print (a[-14:])\n",
    "print (a[:-9])\n",
    "print (a[-7:])\n",
    "print (a[-21:-1])\n",
    "print (a[-17:])\n",
    "print (b[-20:])\n",
    "print (b[-25:-4])\n",
    "print (b[-26:-21])\n",
    "print (b[-15:-8])\n",
    "print (b[-18:-12])\n",
    "print (b[-11:-2])\n",
    "print (b[-18:])\n"
   ]
  },
  {
   "cell_type": "code",
   "execution_count": null,
   "id": "a3362bdd",
   "metadata": {},
   "outputs": [],
   "source": []
  }
 ],
 "metadata": {
  "kernelspec": {
   "display_name": "Python 3 (ipykernel)",
   "language": "python",
   "name": "python3"
  },
  "language_info": {
   "codemirror_mode": {
    "name": "ipython",
    "version": 3
   },
   "file_extension": ".py",
   "mimetype": "text/x-python",
   "name": "python",
   "nbconvert_exporter": "python",
   "pygments_lexer": "ipython3",
   "version": "3.9.12"
  }
 },
 "nbformat": 4,
 "nbformat_minor": 5
}
