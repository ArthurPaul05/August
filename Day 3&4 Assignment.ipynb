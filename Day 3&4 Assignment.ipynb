{
 "cells": [
  {
   "cell_type": "code",
   "execution_count": null,
   "id": "ddf26d30",
   "metadata": {},
   "outputs": [],
   "source": [
    "#Day 3 Assignment - Inbult Function"
   ]
  },
  {
   "cell_type": "code",
   "execution_count": 19,
   "id": "dc9313da",
   "metadata": {},
   "outputs": [
    {
     "name": "stdout",
     "output_type": "stream",
     "text": [
      "18\n",
      "56.52\n",
      "162\n"
     ]
    }
   ],
   "source": [
    "#To find the Dia, Circ, and area\n",
    "r=9\n",
    "p=3.14\n",
    "#what happens if we replace that 3.14 by p) - first the result was wrong and then i got it. \n",
    "#this is showing wrong but in the different window it is giving the result\n",
    "print(2*r)\n",
    "print(2*3.14*r)\n",
    "print(2*r*r)"
   ]
  },
  {
   "cell_type": "code",
   "execution_count": 14,
   "id": "92c81620",
   "metadata": {},
   "outputs": [
    {
     "name": "stdout",
     "output_type": "stream",
     "text": [
      "enter your radius5\n",
      "50\n",
      "<class 'int'>\n",
      "157.0\n",
      "<class 'float'>\n"
     ]
    }
   ],
   "source": [
    "\"\"\"\n",
    "radius=int(input(\"enter your radius\"))\n",
    "p=3.14\n",
    "circumference_of_the_circle=(2*radius*radius)\n",
    "print(circumference_of_the_circle)\n",
    "print(type(circumference_of_the_circle))\n",
    "area_of_circle=(2*3.14*radius*radius)\n",
    "print(area_of_circle)\n",
    "print(type(area_of_circle))\n",
    "\"\"\""
   ]
  },
  {
   "cell_type": "code",
   "execution_count": 18,
   "id": "09414b95",
   "metadata": {},
   "outputs": [
    {
     "name": "stdout",
     "output_type": "stream",
     "text": [
      "enter your radius5\n",
      "5\n",
      "enter your radius*2raja\n",
      "raja\n"
     ]
    }
   ],
   "source": [
    "#i want to input Radius and Name, so did this, took example fro the previous table, \n",
    "#but need to actually practice, took example from prevoous table\n",
    "#from somewhere it is taking 2\n",
    "\n",
    "radius= (int (input(\"enter your radius\")))\n",
    "print (radius)\n",
    "Name = (str (input(\"enter your radius*2\")))\n",
    "print (Diameter)"
   ]
  },
  {
   "cell_type": "code",
   "execution_count": null,
   "id": "0d4ac96f",
   "metadata": {},
   "outputs": [],
   "source": [
    "# Day 4 Assignment - Indexing"
   ]
  },
  {
   "cell_type": "code",
   "execution_count": 26,
   "id": "9d6e9f7d",
   "metadata": {},
   "outputs": [
    {
     "name": "stdout",
     "output_type": "stream",
     "text": [
      "formation_T\n",
      "ion_Technology\n",
      "Information_Technology\n",
      "nformation_Technolog\n"
     ]
    }
   ],
   "source": [
    "#Information_Technology\n",
    "\n",
    "word = \"Information_Technology\"\n",
    "print (word [2:13])\n",
    "print (word [8:])\n",
    "print (word [:])\n",
    "print (word [1:-1])\n"
   ]
  },
  {
   "cell_type": "code",
   "execution_count": null,
   "id": "b7a9035c",
   "metadata": {},
   "outputs": [],
   "source": []
  }
 ],
 "metadata": {
  "kernelspec": {
   "display_name": "Python 3 (ipykernel)",
   "language": "python",
   "name": "python3"
  },
  "language_info": {
   "codemirror_mode": {
    "name": "ipython",
    "version": 3
   },
   "file_extension": ".py",
   "mimetype": "text/x-python",
   "name": "python",
   "nbconvert_exporter": "python",
   "pygments_lexer": "ipython3",
   "version": "3.9.12"
  }
 },
 "nbformat": 4,
 "nbformat_minor": 5
}
