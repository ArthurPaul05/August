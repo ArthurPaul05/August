{
 "cells": [
  {
   "cell_type": "code",
   "execution_count": 1,
   "id": "68c740da",
   "metadata": {},
   "outputs": [
    {
     "name": "stdout",
     "output_type": "stream",
     "text": [
      "5 5\n"
     ]
    }
   ],
   "source": [
    "x=5\n",
    "y=5\n",
    "print(x,y)"
   ]
  },
  {
   "cell_type": "code",
   "execution_count": 2,
   "id": "e9afc9e0",
   "metadata": {},
   "outputs": [
    {
     "name": "stdout",
     "output_type": "stream",
     "text": [
      "25\n"
     ]
    }
   ],
   "source": [
    "x=5\n",
    "y=5\n",
    "print(x*y)"
   ]
  },
  {
   "cell_type": "code",
   "execution_count": 3,
   "id": "aadaa64a",
   "metadata": {},
   "outputs": [
    {
     "name": "stdout",
     "output_type": "stream",
     "text": [
      "0\n"
     ]
    }
   ],
   "source": [
    "x=5\n",
    "y=5\n",
    "print(x-y)"
   ]
  },
  {
   "cell_type": "code",
   "execution_count": 7,
   "id": "b6947fb0",
   "metadata": {},
   "outputs": [
    {
     "name": "stdout",
     "output_type": "stream",
     "text": [
      "1.0\n"
     ]
    }
   ],
   "source": [
    "x=5\n",
    "y=5\n",
    "print(x/y)"
   ]
  },
  {
   "cell_type": "code",
   "execution_count": null,
   "id": "ef2996ca",
   "metadata": {},
   "outputs": [],
   "source": [
    "x=5\n",
    "y=5\n",
    "print(x*y)"
   ]
  },
  {
   "cell_type": "code",
   "execution_count": 17,
   "id": "91103978",
   "metadata": {},
   "outputs": [
    {
     "name": "stdout",
     "output_type": "stream",
     "text": [
      "6 ravi\n"
     ]
    }
   ],
   "source": [
    "x =6\n",
    "y =\"ravi\"\n",
    "print(x,y)"
   ]
  },
  {
   "cell_type": "code",
   "execution_count": 18,
   "id": "5163bcf5",
   "metadata": {},
   "outputs": [
    {
     "name": "stdout",
     "output_type": "stream",
     "text": [
      "Arthur ravi\n"
     ]
    }
   ],
   "source": [
    "x=\"Arthur\"\n",
    "z=\"Paul\"\n",
    "print (x,y)"
   ]
  },
  {
   "cell_type": "code",
   "execution_count": 19,
   "id": "ab2a8a8e",
   "metadata": {},
   "outputs": [
    {
     "name": "stdout",
     "output_type": "stream",
     "text": [
      "Arthur Paul\n"
     ]
    }
   ],
   "source": [
    "x=\"Arthur\"\n",
    "z=\"Paul\"\n",
    "print (x,z)"
   ]
  },
  {
   "cell_type": "code",
   "execution_count": 23,
   "id": "3e8b1a18",
   "metadata": {},
   "outputs": [
    {
     "name": "stdout",
     "output_type": "stream",
     "text": [
      "['arthur', 'rasika', 'jefrin']\n"
     ]
    }
   ],
   "source": [
    "#Doubt in 21, even if we take out x,y,z = EIT, the same output, then what is the difference.\n",
    "#https://github.com/ravikumar0508/August/blob/main/Startup.ipynb - doubt in 21 row\n",
    "EIT =[\"arthur\",\"rasika\",\"jefrin\"]\n",
    "x,y,z= EIT\n",
    "print(EIT)"
   ]
  },
  {
   "cell_type": "code",
   "execution_count": null,
   "id": "a39e2cb1",
   "metadata": {},
   "outputs": [],
   "source": []
  }
 ],
 "metadata": {
  "kernelspec": {
   "display_name": "Python 3 (ipykernel)",
   "language": "python",
   "name": "python3"
  },
  "language_info": {
   "codemirror_mode": {
    "name": "ipython",
    "version": 3
   },
   "file_extension": ".py",
   "mimetype": "text/x-python",
   "name": "python",
   "nbconvert_exporter": "python",
   "pygments_lexer": "ipython3",
   "version": "3.9.12"
  }
 },
 "nbformat": 4,
 "nbformat_minor": 5
}
