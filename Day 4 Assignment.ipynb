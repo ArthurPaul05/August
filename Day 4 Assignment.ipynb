{
 "cells": [
  {
   "cell_type": "code",
   "execution_count": 37,
   "id": "2a7e4bc7",
   "metadata": {},
   "outputs": [
    {
     "name": "stdout",
     "output_type": "stream",
     "text": [
      "formation_T\n",
      "ion_Technology\n",
      "Information_T\n",
      "hnology\n",
      "nformation_Technolog\n",
      "mation_Technology\n",
      "programming_language\n",
      "thon_programming_langu\n",
      "ython_\n",
      "amming_\n",
      "ogramm\n",
      "ng_langua\n",
      "ogramming_language\n",
      "\n",
      "\n"
     ]
    }
   ],
   "source": [
    "Word = \"Information_Technology\"\n",
    "Words = \"Python_programming_language\"\n",
    "print (Word [2:13])\n",
    "print (Word [8:])\n",
    "print (Word [:13])\n",
    "print (Word [15:])\n",
    "print (Word [1:-1])\n",
    "print (Word [5:])\n",
    "print (Words[7:])\n",
    "print (Words[2:-3])\n",
    "print (Words[1:7])\n",
    "print (Words[12:19])\n",
    "print (Words[9:15])\n",
    "print (Words[16:-2])\n",
    "print (Words[9:])\n",
    "print (Words[9:7])\n",
    "print (Words[13:5])"
   ]
  },
  {
   "cell_type": "code",
   "execution_count": null,
   "id": "de372f84",
   "metadata": {},
   "outputs": [],
   "source": []
  }
 ],
 "metadata": {
  "kernelspec": {
   "display_name": "Python 3 (ipykernel)",
   "language": "python",
   "name": "python3"
  },
  "language_info": {
   "codemirror_mode": {
    "name": "ipython",
    "version": 3
   },
   "file_extension": ".py",
   "mimetype": "text/x-python",
   "name": "python",
   "nbconvert_exporter": "python",
   "pygments_lexer": "ipython3",
   "version": "3.9.12"
  }
 },
 "nbformat": 4,
 "nbformat_minor": 5
}
