{
 "cells": [
  {
   "cell_type": "code",
   "execution_count": 1,
   "id": "08230974",
   "metadata": {},
   "outputs": [
    {
     "name": "stdout",
     "output_type": "stream",
     "text": [
      "3125\n"
     ]
    }
   ],
   "source": [
    "#Addition\n",
    "a=5\n",
    "b=5\n",
    "print(a**b)\n",
    "#but i am not sure what is the value and how is this multiplied"
   ]
  },
  {
   "cell_type": "code",
   "execution_count": 2,
   "id": "909a5f4c",
   "metadata": {},
   "outputs": [
    {
     "name": "stdout",
     "output_type": "stream",
     "text": [
      "1\n"
     ]
    }
   ],
   "source": [
    "#division\n",
    "a=70\n",
    "b=70\n",
    "print(a//b)"
   ]
  },
  {
   "cell_type": "code",
   "execution_count": 3,
   "id": "3ffc5cdc",
   "metadata": {},
   "outputs": [
    {
     "name": "stdout",
     "output_type": "stream",
     "text": [
      "9.625\n"
     ]
    }
   ],
   "source": [
    "#exact division\n",
    "a=77\n",
    "b=8\n",
    "print(a/b)"
   ]
  },
  {
   "cell_type": "code",
   "execution_count": 4,
   "id": "de8b3b1c",
   "metadata": {},
   "outputs": [
    {
     "name": "stdout",
     "output_type": "stream",
     "text": [
      "9\n"
     ]
    }
   ],
   "source": [
    "#division\n",
    "a=77\n",
    "b=8\n",
    "print(a//b)"
   ]
  },
  {
   "cell_type": "code",
   "execution_count": 18,
   "id": "ceb4dc45",
   "metadata": {},
   "outputs": [
    {
     "ename": "SyntaxError",
     "evalue": "invalid syntax (200860094.py, line 4)",
     "output_type": "error",
     "traceback": [
      "\u001b[1;36m  Input \u001b[1;32mIn [18]\u001b[1;36m\u001b[0m\n\u001b[1;33m    if (c+d)==30\u001b[0m\n\u001b[1;37m                ^\u001b[0m\n\u001b[1;31mSyntaxError\u001b[0m\u001b[1;31m:\u001b[0m invalid syntax\n"
     ]
    }
   ],
   "source": [
    "#absolute equalto\n",
    "c=10\n",
    "d=20\n",
    "if (c+d)==30\n",
    "print(\"correct\")\n",
    "else\n",
    "print(\"wrong\")"
   ]
  },
  {
   "cell_type": "code",
   "execution_count": null,
   "id": "1dce7dd2",
   "metadata": {},
   "outputs": [],
   "source": []
  },
  {
   "cell_type": "code",
   "execution_count": null,
   "id": "da6ef3dd",
   "metadata": {},
   "outputs": [],
   "source": []
  }
 ],
 "metadata": {
  "kernelspec": {
   "display_name": "Python 3 (ipykernel)",
   "language": "python",
   "name": "python3"
  },
  "language_info": {
   "codemirror_mode": {
    "name": "ipython",
    "version": 3
   },
   "file_extension": ".py",
   "mimetype": "text/x-python",
   "name": "python",
   "nbconvert_exporter": "python",
   "pygments_lexer": "ipython3",
   "version": "3.9.12"
  }
 },
 "nbformat": 4,
 "nbformat_minor": 5
}
