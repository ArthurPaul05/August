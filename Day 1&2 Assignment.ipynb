{
 "cells": [
  {
   "cell_type": "code",
   "execution_count": 14,
   "id": "5808b9dc",
   "metadata": {},
   "outputs": [
    {
     "name": "stdout",
     "output_type": "stream",
     "text": [
      "35\n",
      "25\n",
      "150\n",
      "4\n",
      "6.0\n",
      "6\n",
      "24300000\n",
      "30 5\n",
      "30 Arthur\n"
     ]
    }
   ],
   "source": [
    "#Day 1 Assignment (addition, subtraction, multi, and symbol(doubt in this), divide, squroot, adding char and int)\n",
    "a=30\n",
    "b=5\n",
    "z= \"Arthur\"\n",
    "print (a+b)\n",
    "print (a-b)\n",
    "print (a*b)\n",
    "print (a&b)\n",
    "print (a/b)\n",
    "print (a//b)\n",
    "print (a**b)\n",
    "print (a,b)\n",
    "print (a,z)"
   ]
  },
  {
   "cell_type": "code",
   "execution_count": 12,
   "id": "078e19e1",
   "metadata": {},
   "outputs": [
    {
     "name": "stdout",
     "output_type": "stream",
     "text": [
      "('Arthur', 'Paul') ('Arthur', 'Paul')\n"
     ]
    }
   ],
   "source": [
    "#doubt (but int he previous class it took as Ravi)\n",
    "#x=y=z =\"Arthur\", \"Paul\"\n",
    "#print(x,y)"
   ]
  },
  {
   "cell_type": "code",
   "execution_count": 18,
   "id": "70301d28",
   "metadata": {},
   "outputs": [
    {
     "name": "stdout",
     "output_type": "stream",
     "text": [
      "arthur\n",
      "wrong\n"
     ]
    }
   ],
   "source": [
    "#Day 2 Assignment\n",
    "\n",
    "EIT =[\"arthur\",\"rasika\",\"jefrin\"]\n",
    "x,y,z= EIT\n",
    "print(x)\n",
    "\n",
    "#absolute equalto\n",
    "L=40\n",
    "M=20\n",
    "if (L+M)==30:\n",
    "    print (\"correct\")\n",
    "else:\n",
    "    print(\"wrong\")"
   ]
  },
  {
   "cell_type": "code",
   "execution_count": null,
   "id": "70655a2b",
   "metadata": {},
   "outputs": [],
   "source": [
    "#Day 3 Assignment\n",
    "\n",
    "#To find the Dia, Circ, and area\n",
    "r=9\n",
    "p=3.14\n",
    "#what happens if we replace that 3.14 by p) - first the result was wrong and then i got it. \n",
    "#this is showing wrong but in the different window it is giving the result\n",
    "print(2*r)\n",
    "print(2*3.14*r)\n",
    "print(2*r*r)"
   ]
  }
 ],
 "metadata": {
  "kernelspec": {
   "display_name": "Python 3 (ipykernel)",
   "language": "python",
   "name": "python3"
  },
  "language_info": {
   "codemirror_mode": {
    "name": "ipython",
    "version": 3
   },
   "file_extension": ".py",
   "mimetype": "text/x-python",
   "name": "python",
   "nbconvert_exporter": "python",
   "pygments_lexer": "ipython3",
   "version": "3.9.12"
  }
 },
 "nbformat": 4,
 "nbformat_minor": 5
}
