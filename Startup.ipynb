{
 "cells": [
  {
   "cell_type": "code",
   "execution_count": null,
   "id": "f9961201",
   "metadata": {},
   "outputs": [],
   "source": [
    "#Aim\n",
    "#40\n",
    "#Data types\n",
    "#boolean -true false\n",
    "\n",
    "#1.String - \"ravi5677\"\n",
    "#int -"
   ]
  },
  {
   "cell_type": "code",
   "execution_count": null,
   "id": "ff8ca322",
   "metadata": {},
   "outputs": [],
   "source": [
    "\"\"\"\n",
    "int 5\n",
    "float -5.0\n",
    "char -r a v i\n",
    "complex =2j+k\n",
    "\"\"\""
   ]
  },
  {
   "cell_type": "code",
   "execution_count": null,
   "id": "d0a51c2f",
   "metadata": {},
   "outputs": [],
   "source": [
    "a = \"ravi\""
   ]
  },
  {
   "cell_type": "code",
   "execution_count": null,
   "id": "7fbe7d08",
   "metadata": {},
   "outputs": [],
   "source": [
    "#variable\n",
    "x =30\n",
    "y =30"
   ]
  },
  {
   "cell_type": "code",
   "execution_count": null,
   "id": "eadd7450",
   "metadata": {},
   "outputs": [],
   "source": [
    "Syntax\n",
    ".py"
   ]
  },
  {
   "cell_type": "code",
   "execution_count": null,
   "id": "e28901d4",
   "metadata": {},
   "outputs": [],
   "source": [
    "#-comment"
   ]
  },
  {
   "cell_type": "code",
   "execution_count": 13,
   "id": "721791a6",
   "metadata": {},
   "outputs": [
    {
     "name": "stdout",
     "output_type": "stream",
     "text": [
      "tom\n",
      "joy\n"
     ]
    }
   ],
   "source": [
    "ravi =\"table\"\n",
    "#print(ravi)\n",
    "ravi_kumar =\"tom\"\n",
    "print(ravi_kumar)\n",
    "_Ravi =\"joy\"\n",
    "print(_Ravi)"
   ]
  },
  {
   "cell_type": "code",
   "execution_count": 11,
   "id": "6945278a",
   "metadata": {},
   "outputs": [
    {
     "ename": "SyntaxError",
     "evalue": "invalid syntax (1593565116.py, line 6)",
     "output_type": "error",
     "traceback": [
      "\u001b[1;36m  Input \u001b[1;32mIn [11]\u001b[1;36m\u001b[0m\n\u001b[1;33m    continue =\"ravi\"\u001b[0m\n\u001b[1;37m             ^\u001b[0m\n\u001b[1;31mSyntaxError\u001b[0m\u001b[1;31m:\u001b[0m invalid syntax\n"
     ]
    }
   ],
   "source": [
    "#2ravi =\"table\"\n",
    "#ra-vi =\"tom\"\n",
    "#print(ra-vi)\n",
    "#ravi kumar =\"jerry\"\n",
    "#print(ravi kumar)\n",
    "#continue =\"ravi\" -keywords\n",
    "#print(continue)"
   ]
  },
  {
   "cell_type": "code",
   "execution_count": 17,
   "id": "e09b6d2d",
   "metadata": {},
   "outputs": [
    {
     "name": "stdout",
     "output_type": "stream",
     "text": [
      "ravi jefrin rasika arthur\n"
     ]
    }
   ],
   "source": [
    "x =\"ravi\"\n",
    "y =\"jefrin\"\n",
    "z =\"rasika\"\n",
    "a =\"arthur\"\n",
    "print(x,y,z,a)\n",
    "\n"
   ]
  },
  {
   "cell_type": "code",
   "execution_count": 25,
   "id": "ed62d584",
   "metadata": {},
   "outputs": [
    {
     "name": "stdout",
     "output_type": "stream",
     "text": [
      "Arthur jefrin rasika arthur\n"
     ]
    }
   ],
   "source": [
    "#x,y,z,a =\"Arthur\",\"jefrin\",\"rasika\",\"arthur\"\n",
    "print(x,y,z,a)"
   ]
  },
  {
   "cell_type": "code",
   "execution_count": 18,
   "id": "f35cf526",
   "metadata": {},
   "outputs": [
    {
     "name": "stdout",
     "output_type": "stream",
     "text": [
      "('ravi', 'jefrin', 'rasika', 'arthur')\n"
     ]
    }
   ],
   "source": [
    "x = \"Arthur\",\"jefrin\",\"rasika\",\"arthur\"\n",
    "print(x)"
   ]
  },
  {
   "cell_type": "code",
   "execution_count": 21,
   "id": "f1edacad",
   "metadata": {},
   "outputs": [
    {
     "name": "stdout",
     "output_type": "stream",
     "text": [
      "ravi ravi\n"
     ]
    }
   ],
   "source": [
    "x=y=z =\"Arthur\"\n",
    "print(x,y)"
   ]
  },
  {
   "cell_type": "code",
   "execution_count": 34,
   "id": "31d0db29",
   "metadata": {},
   "outputs": [
    {
     "name": "stdout",
     "output_type": "stream",
     "text": [
      "['arthur', 'rasika', 'jefrin']\n"
     ]
    }
   ],
   "source": [
    "#collection of variable\n",
    "\n",
    "EIT =[\"arthur\",\"rasika\",\"jefrin\"]\n",
    "x,y,z = EIT\n",
    "print(EIT)"
   ]
  },
  {
   "cell_type": "code",
   "execution_count": 39,
   "id": "4e55a9ab",
   "metadata": {},
   "outputs": [
    {
     "name": "stdout",
     "output_type": "stream",
     "text": [
      "arthur is100gentle man\n"
     ]
    }
   ],
   "source": [
    "x =\"arthur\"\n",
    "y =\"is100\"\n",
    "z =\"gentle man\"\n",
    "c =\" \"\n",
    "print(x +c +y +z )"
   ]
  },
  {
   "cell_type": "code",
   "execution_count": 45,
   "id": "4cf21ef6",
   "metadata": {},
   "outputs": [
    {
     "ename": "TypeError",
     "evalue": "unsupported operand type(s) for +: 'int' and 'str'",
     "output_type": "error",
     "traceback": [
      "\u001b[1;31m---------------------------------------------------------------------------\u001b[0m",
      "\u001b[1;31mTypeError\u001b[0m                                 Traceback (most recent call last)",
      "Input \u001b[1;32mIn [45]\u001b[0m, in \u001b[0;36m<cell line: 3>\u001b[1;34m()\u001b[0m\n\u001b[0;32m      1\u001b[0m x \u001b[38;5;241m=\u001b[39m\u001b[38;5;241m6\u001b[39m\n\u001b[0;32m      2\u001b[0m y \u001b[38;5;241m=\u001b[39m\u001b[38;5;124m\"\u001b[39m\u001b[38;5;124mravi\u001b[39m\u001b[38;5;124m\"\u001b[39m\n\u001b[1;32m----> 3\u001b[0m \u001b[38;5;28mprint\u001b[39m(\u001b[43mx\u001b[49m\u001b[38;5;241;43m+\u001b[39;49m\u001b[43my\u001b[49m)\n",
      "\u001b[1;31mTypeError\u001b[0m: unsupported operand type(s) for +: 'int' and 'str'"
     ]
    }
   ],
   "source": [
    "x =6\n",
    "y =\"ravi\"\n",
    "print(x+y)\n",
    "\n"
   ]
  },
  {
   "cell_type": "code",
   "execution_count": null,
   "id": "07922fb1",
   "metadata": {},
   "outputs": [],
   "source": [
    "1.Variable create 1 for all type \n",
    "2.variable\n",
    "3.Yesterday error"
   ]
  },
  {
   "cell_type": "code",
   "execution_count": null,
   "id": "f775b047",
   "metadata": {},
   "outputs": [],
   "source": []
  }
 ],
 "metadata": {
  "kernelspec": {
   "display_name": "Python 3 (ipykernel)",
   "language": "python",
   "name": "python3"
  },
  "language_info": {
   "codemirror_mode": {
    "name": "ipython",
    "version": 3
   },
   "file_extension": ".py",
   "mimetype": "text/x-python",
   "name": "python",
   "nbconvert_exporter": "python",
   "pygments_lexer": "ipython3",
   "version": "3.9.12"
  }
 },
 "nbformat": 4,
 "nbformat_minor": 5
}
